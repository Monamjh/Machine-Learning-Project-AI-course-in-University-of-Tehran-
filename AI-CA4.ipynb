{
 "cells": [
  {
   "cell_type": "markdown",
   "id": "c9ace519",
   "metadata": {},
   "source": [
    "## Mona Mohades Mojtahedi 810198557\n",
    "## CA4"
   ]
  },
  {
   "cell_type": "code",
   "execution_count": 1,
   "id": "6484d978",
   "metadata": {},
   "outputs": [
    {
     "name": "stdout",
     "output_type": "stream",
     "text": [
      "[nltk_data] Error loading punkt: <urlopen error [Errno 11001]\n",
      "[nltk_data]     getaddrinfo failed>\n"
     ]
    },
    {
     "data": {
      "text/plain": [
       "False"
      ]
     },
     "execution_count": 1,
     "metadata": {},
     "output_type": "execute_result"
    }
   ],
   "source": [
    "import pandas as pd\n",
    "import numpy as np\n",
    "import sklearn\n",
    "import nltk\n",
    "nltk.download('punkt')"
   ]
  },
  {
   "cell_type": "markdown",
   "id": "23b1a22a",
   "metadata": {},
   "source": [
    "### Load data to DataFrame"
   ]
  },
  {
   "cell_type": "code",
   "execution_count": 2,
   "id": "b40c7fab",
   "metadata": {},
   "outputs": [
    {
     "data": {
      "text/html": [
       "<div>\n",
       "<style scoped>\n",
       "    .dataframe tbody tr th:only-of-type {\n",
       "        vertical-align: middle;\n",
       "    }\n",
       "\n",
       "    .dataframe tbody tr th {\n",
       "        vertical-align: top;\n",
       "    }\n",
       "\n",
       "    .dataframe thead th {\n",
       "        text-align: right;\n",
       "    }\n",
       "</style>\n",
       "<table border=\"1\" class=\"dataframe\">\n",
       "  <thead>\n",
       "    <tr style=\"text-align: right;\">\n",
       "      <th></th>\n",
       "      <th>type</th>\n",
       "      <th>title</th>\n",
       "      <th>cast</th>\n",
       "      <th>country</th>\n",
       "      <th>release_year</th>\n",
       "      <th>listed_in</th>\n",
       "      <th>description</th>\n",
       "    </tr>\n",
       "  </thead>\n",
       "  <tbody>\n",
       "    <tr>\n",
       "      <th>0</th>\n",
       "      <td>Movie</td>\n",
       "      <td>Dick Johnson Is Dead</td>\n",
       "      <td>NaN</td>\n",
       "      <td>United States</td>\n",
       "      <td>2020</td>\n",
       "      <td>Documentaries</td>\n",
       "      <td>As her father nears the end of his life, filmm...</td>\n",
       "    </tr>\n",
       "    <tr>\n",
       "      <th>1</th>\n",
       "      <td>TV Show</td>\n",
       "      <td>Blood &amp; Water</td>\n",
       "      <td>Ama Qamata, Khosi Ngema, Gail Mabalane, Thaban...</td>\n",
       "      <td>South Africa</td>\n",
       "      <td>2021</td>\n",
       "      <td>International TV Shows, TV Dramas, TV Mysteries</td>\n",
       "      <td>After crossing paths at a party, a Cape Town t...</td>\n",
       "    </tr>\n",
       "    <tr>\n",
       "      <th>2</th>\n",
       "      <td>TV Show</td>\n",
       "      <td>Ganglands</td>\n",
       "      <td>Sami Bouajila, Tracy Gotoas, Samuel Jouy, Nabi...</td>\n",
       "      <td>NaN</td>\n",
       "      <td>2021</td>\n",
       "      <td>Crime TV Shows, International TV Shows, TV Act...</td>\n",
       "      <td>To protect his family from a powerful drug lor...</td>\n",
       "    </tr>\n",
       "    <tr>\n",
       "      <th>3</th>\n",
       "      <td>TV Show</td>\n",
       "      <td>Jailbirds New Orleans</td>\n",
       "      <td>NaN</td>\n",
       "      <td>NaN</td>\n",
       "      <td>2021</td>\n",
       "      <td>Docuseries, Reality TV</td>\n",
       "      <td>Feuds, flirtations and toilet talk go down amo...</td>\n",
       "    </tr>\n",
       "    <tr>\n",
       "      <th>4</th>\n",
       "      <td>TV Show</td>\n",
       "      <td>Kota Factory</td>\n",
       "      <td>Mayur More, Jitendra Kumar, Ranjan Raj, Alam K...</td>\n",
       "      <td>India</td>\n",
       "      <td>2021</td>\n",
       "      <td>International TV Shows, Romantic TV Shows, TV ...</td>\n",
       "      <td>In a city of coaching centers known to train I...</td>\n",
       "    </tr>\n",
       "  </tbody>\n",
       "</table>\n",
       "</div>"
      ],
      "text/plain": [
       "      type                  title  \\\n",
       "0    Movie   Dick Johnson Is Dead   \n",
       "1  TV Show          Blood & Water   \n",
       "2  TV Show              Ganglands   \n",
       "3  TV Show  Jailbirds New Orleans   \n",
       "4  TV Show           Kota Factory   \n",
       "\n",
       "                                                cast        country  \\\n",
       "0                                                NaN  United States   \n",
       "1  Ama Qamata, Khosi Ngema, Gail Mabalane, Thaban...   South Africa   \n",
       "2  Sami Bouajila, Tracy Gotoas, Samuel Jouy, Nabi...            NaN   \n",
       "3                                                NaN            NaN   \n",
       "4  Mayur More, Jitendra Kumar, Ranjan Raj, Alam K...          India   \n",
       "\n",
       "   release_year                                          listed_in  \\\n",
       "0          2020                                      Documentaries   \n",
       "1          2021    International TV Shows, TV Dramas, TV Mysteries   \n",
       "2          2021  Crime TV Shows, International TV Shows, TV Act...   \n",
       "3          2021                             Docuseries, Reality TV   \n",
       "4          2021  International TV Shows, Romantic TV Shows, TV ...   \n",
       "\n",
       "                                         description  \n",
       "0  As her father nears the end of his life, filmm...  \n",
       "1  After crossing paths at a party, a Cape Town t...  \n",
       "2  To protect his family from a powerful drug lor...  \n",
       "3  Feuds, flirtations and toilet talk go down amo...  \n",
       "4  In a city of coaching centers known to train I...  "
      ]
     },
     "execution_count": 2,
     "metadata": {},
     "output_type": "execute_result"
    }
   ],
   "source": [
    "data = pd.read_csv('dataset.csv')\n",
    "data.head()"
   ]
  },
  {
   "cell_type": "markdown",
   "id": "d017ca59",
   "metadata": {},
   "source": [
    "### Data info"
   ]
  },
  {
   "cell_type": "code",
   "execution_count": 3,
   "id": "8a96ae04",
   "metadata": {},
   "outputs": [
    {
     "data": {
      "text/html": [
       "<div>\n",
       "<style scoped>\n",
       "    .dataframe tbody tr th:only-of-type {\n",
       "        vertical-align: middle;\n",
       "    }\n",
       "\n",
       "    .dataframe tbody tr th {\n",
       "        vertical-align: top;\n",
       "    }\n",
       "\n",
       "    .dataframe thead th {\n",
       "        text-align: right;\n",
       "    }\n",
       "</style>\n",
       "<table border=\"1\" class=\"dataframe\">\n",
       "  <thead>\n",
       "    <tr style=\"text-align: right;\">\n",
       "      <th></th>\n",
       "      <th>release_year</th>\n",
       "    </tr>\n",
       "  </thead>\n",
       "  <tbody>\n",
       "    <tr>\n",
       "      <th>count</th>\n",
       "      <td>11059.000000</td>\n",
       "    </tr>\n",
       "    <tr>\n",
       "      <th>mean</th>\n",
       "      <td>2014.209603</td>\n",
       "    </tr>\n",
       "    <tr>\n",
       "      <th>std</th>\n",
       "      <td>8.959517</td>\n",
       "    </tr>\n",
       "    <tr>\n",
       "      <th>min</th>\n",
       "      <td>1925.000000</td>\n",
       "    </tr>\n",
       "    <tr>\n",
       "      <th>25%</th>\n",
       "      <td>2013.000000</td>\n",
       "    </tr>\n",
       "    <tr>\n",
       "      <th>50%</th>\n",
       "      <td>2017.000000</td>\n",
       "    </tr>\n",
       "    <tr>\n",
       "      <th>75%</th>\n",
       "      <td>2019.000000</td>\n",
       "    </tr>\n",
       "    <tr>\n",
       "      <th>max</th>\n",
       "      <td>2021.000000</td>\n",
       "    </tr>\n",
       "  </tbody>\n",
       "</table>\n",
       "</div>"
      ],
      "text/plain": [
       "       release_year\n",
       "count  11059.000000\n",
       "mean    2014.209603\n",
       "std        8.959517\n",
       "min     1925.000000\n",
       "25%     2013.000000\n",
       "50%     2017.000000\n",
       "75%     2019.000000\n",
       "max     2021.000000"
      ]
     },
     "execution_count": 3,
     "metadata": {},
     "output_type": "execute_result"
    }
   ],
   "source": [
    "data.describe()"
   ]
  },
  {
   "cell_type": "code",
   "execution_count": 4,
   "id": "eee8f411",
   "metadata": {},
   "outputs": [
    {
     "name": "stdout",
     "output_type": "stream",
     "text": [
      "<class 'pandas.core.frame.DataFrame'>\n",
      "RangeIndex: 11059 entries, 0 to 11058\n",
      "Data columns (total 7 columns):\n",
      " #   Column        Non-Null Count  Dtype \n",
      "---  ------        --------------  ----- \n",
      " 0   type          11059 non-null  object\n",
      " 1   title         11059 non-null  object\n",
      " 2   cast          9694 non-null   object\n",
      " 3   country       8364 non-null   object\n",
      " 4   release_year  11059 non-null  int64 \n",
      " 5   listed_in     11059 non-null  object\n",
      " 6   description   11059 non-null  object\n",
      "dtypes: int64(1), object(6)\n",
      "memory usage: 604.9+ KB\n"
     ]
    }
   ],
   "source": [
    "data.info()"
   ]
  },
  {
   "cell_type": "code",
   "execution_count": 5,
   "id": "63a1bb80",
   "metadata": {},
   "outputs": [
    {
     "data": {
      "text/html": [
       "<div>\n",
       "<style scoped>\n",
       "    .dataframe tbody tr th:only-of-type {\n",
       "        vertical-align: middle;\n",
       "    }\n",
       "\n",
       "    .dataframe tbody tr th {\n",
       "        vertical-align: top;\n",
       "    }\n",
       "\n",
       "    .dataframe thead th {\n",
       "        text-align: right;\n",
       "    }\n",
       "</style>\n",
       "<table border=\"1\" class=\"dataframe\">\n",
       "  <thead>\n",
       "    <tr style=\"text-align: right;\">\n",
       "      <th></th>\n",
       "      <th>attributes</th>\n",
       "      <th>percent_missing</th>\n",
       "    </tr>\n",
       "  </thead>\n",
       "  <tbody>\n",
       "    <tr>\n",
       "      <th>type</th>\n",
       "      <td>type</td>\n",
       "      <td>0.000000</td>\n",
       "    </tr>\n",
       "    <tr>\n",
       "      <th>title</th>\n",
       "      <td>title</td>\n",
       "      <td>0.000000</td>\n",
       "    </tr>\n",
       "    <tr>\n",
       "      <th>cast</th>\n",
       "      <td>cast</td>\n",
       "      <td>12.342888</td>\n",
       "    </tr>\n",
       "    <tr>\n",
       "      <th>country</th>\n",
       "      <td>country</td>\n",
       "      <td>24.369292</td>\n",
       "    </tr>\n",
       "    <tr>\n",
       "      <th>release_year</th>\n",
       "      <td>release_year</td>\n",
       "      <td>0.000000</td>\n",
       "    </tr>\n",
       "    <tr>\n",
       "      <th>listed_in</th>\n",
       "      <td>listed_in</td>\n",
       "      <td>0.000000</td>\n",
       "    </tr>\n",
       "    <tr>\n",
       "      <th>description</th>\n",
       "      <td>description</td>\n",
       "      <td>0.000000</td>\n",
       "    </tr>\n",
       "  </tbody>\n",
       "</table>\n",
       "</div>"
      ],
      "text/plain": [
       "                attributes  percent_missing\n",
       "type                  type         0.000000\n",
       "title                title         0.000000\n",
       "cast                  cast        12.342888\n",
       "country            country        24.369292\n",
       "release_year  release_year         0.000000\n",
       "listed_in        listed_in         0.000000\n",
       "description    description         0.000000"
      ]
     },
     "execution_count": 5,
     "metadata": {},
     "output_type": "execute_result"
    }
   ],
   "source": [
    "percent_missing = data.isnull().sum() * 100 / len(data)\n",
    "missing_values = pd.DataFrame({'attributes': data.columns,'percent_missing': percent_missing})\n",
    "missing_values"
   ]
  },
  {
   "cell_type": "markdown",
   "id": "5bf3ea42",
   "metadata": {},
   "source": [
    "### Preprocesing data"
   ]
  },
  {
   "cell_type": "code",
   "execution_count": 6,
   "id": "58219249",
   "metadata": {},
   "outputs": [
    {
     "data": {
      "text/plain": [
       "760"
      ]
     },
     "execution_count": 6,
     "metadata": {},
     "output_type": "execute_result"
    }
   ],
   "source": [
    "data['country'].nunique()"
   ]
  },
  {
   "cell_type": "code",
   "execution_count": 7,
   "id": "5d171f05",
   "metadata": {},
   "outputs": [
    {
     "data": {
      "text/plain": [
       "0    United States\n",
       "dtype: object"
      ]
     },
     "execution_count": 7,
     "metadata": {},
     "output_type": "execute_result"
    }
   ],
   "source": [
    "data['country'].mode()"
   ]
  },
  {
   "cell_type": "code",
   "execution_count": 8,
   "id": "8e68bbf4",
   "metadata": {
    "scrolled": true
   },
   "outputs": [
    {
     "data": {
      "text/plain": [
       "count                   9694\n",
       "unique                  9307\n",
       "top       David Attenborough\n",
       "freq                      20\n",
       "Name: cast, dtype: object"
      ]
     },
     "execution_count": 8,
     "metadata": {},
     "output_type": "execute_result"
    }
   ],
   "source": [
    "data['cast'].describe()"
   ]
  },
  {
   "cell_type": "markdown",
   "id": "79b367ba",
   "metadata": {},
   "source": [
    "### Normalization & Standardization"
   ]
  },
  {
   "cell_type": "code",
   "execution_count": 37,
   "id": "65be51a7",
   "metadata": {},
   "outputs": [],
   "source": [
    "#x = new_data['release_year'].to_numpy() #returns a numpy array\n",
    "#X = x.reshape(1,-1)\n",
    "# min_max_scaler = preprocessing.MinMaxScaler()\n",
    "# x_scaled = min_max_scaler.fit_transform(reshaped_x)\n",
    "# df = pd.DataFrame(x_scaled)\n",
    "# df\n",
    "\n",
    "# min max\n",
    "#X = (X - X.min()) / (X.max() - X.min())\n",
    "\n",
    "# standard normal zero mean unit standard deviation\n",
    "# X = (X - X.mean()) / X.std()\n",
    "\n",
    "#new_data['release_year'] = X[0]"
   ]
  },
  {
   "cell_type": "markdown",
   "id": "e1990029",
   "metadata": {},
   "source": [
    "### Fill Missing Values"
   ]
  },
  {
   "cell_type": "code",
   "execution_count": 9,
   "id": "8604ee36",
   "metadata": {},
   "outputs": [
    {
     "data": {
      "text/html": [
       "<div>\n",
       "<style scoped>\n",
       "    .dataframe tbody tr th:only-of-type {\n",
       "        vertical-align: middle;\n",
       "    }\n",
       "\n",
       "    .dataframe tbody tr th {\n",
       "        vertical-align: top;\n",
       "    }\n",
       "\n",
       "    .dataframe thead th {\n",
       "        text-align: right;\n",
       "    }\n",
       "</style>\n",
       "<table border=\"1\" class=\"dataframe\">\n",
       "  <thead>\n",
       "    <tr style=\"text-align: right;\">\n",
       "      <th></th>\n",
       "      <th>type</th>\n",
       "      <th>title</th>\n",
       "      <th>cast</th>\n",
       "      <th>country</th>\n",
       "      <th>release_year</th>\n",
       "      <th>listed_in</th>\n",
       "      <th>description</th>\n",
       "    </tr>\n",
       "  </thead>\n",
       "  <tbody>\n",
       "    <tr>\n",
       "      <th>0</th>\n",
       "      <td>Movie</td>\n",
       "      <td>Dick Johnson Is Dead</td>\n",
       "      <td>U</td>\n",
       "      <td>United States</td>\n",
       "      <td>2020</td>\n",
       "      <td>Documentaries</td>\n",
       "      <td>As her father nears the end of his life, filmm...</td>\n",
       "    </tr>\n",
       "    <tr>\n",
       "      <th>1</th>\n",
       "      <td>TV Show</td>\n",
       "      <td>Blood &amp; Water</td>\n",
       "      <td>Ama Qamata, Khosi Ngema, Gail Mabalane, Thaban...</td>\n",
       "      <td>South Africa</td>\n",
       "      <td>2021</td>\n",
       "      <td>International TV Shows, TV Dramas, TV Mysteries</td>\n",
       "      <td>After crossing paths at a party, a Cape Town t...</td>\n",
       "    </tr>\n",
       "    <tr>\n",
       "      <th>2</th>\n",
       "      <td>TV Show</td>\n",
       "      <td>Ganglands</td>\n",
       "      <td>Sami Bouajila, Tracy Gotoas, Samuel Jouy, Nabi...</td>\n",
       "      <td>U</td>\n",
       "      <td>2021</td>\n",
       "      <td>Crime TV Shows, International TV Shows, TV Act...</td>\n",
       "      <td>To protect his family from a powerful drug lor...</td>\n",
       "    </tr>\n",
       "    <tr>\n",
       "      <th>3</th>\n",
       "      <td>TV Show</td>\n",
       "      <td>Jailbirds New Orleans</td>\n",
       "      <td>U</td>\n",
       "      <td>U</td>\n",
       "      <td>2021</td>\n",
       "      <td>Docuseries, Reality TV</td>\n",
       "      <td>Feuds, flirtations and toilet talk go down amo...</td>\n",
       "    </tr>\n",
       "    <tr>\n",
       "      <th>4</th>\n",
       "      <td>TV Show</td>\n",
       "      <td>Kota Factory</td>\n",
       "      <td>Mayur More, Jitendra Kumar, Ranjan Raj, Alam K...</td>\n",
       "      <td>India</td>\n",
       "      <td>2021</td>\n",
       "      <td>International TV Shows, Romantic TV Shows, TV ...</td>\n",
       "      <td>In a city of coaching centers known to train I...</td>\n",
       "    </tr>\n",
       "  </tbody>\n",
       "</table>\n",
       "</div>"
      ],
      "text/plain": [
       "      type                  title  \\\n",
       "0    Movie   Dick Johnson Is Dead   \n",
       "1  TV Show          Blood & Water   \n",
       "2  TV Show              Ganglands   \n",
       "3  TV Show  Jailbirds New Orleans   \n",
       "4  TV Show           Kota Factory   \n",
       "\n",
       "                                                cast        country  \\\n",
       "0                                                  U  United States   \n",
       "1  Ama Qamata, Khosi Ngema, Gail Mabalane, Thaban...   South Africa   \n",
       "2  Sami Bouajila, Tracy Gotoas, Samuel Jouy, Nabi...              U   \n",
       "3                                                  U              U   \n",
       "4  Mayur More, Jitendra Kumar, Ranjan Raj, Alam K...          India   \n",
       "\n",
       "   release_year                                          listed_in  \\\n",
       "0          2020                                      Documentaries   \n",
       "1          2021    International TV Shows, TV Dramas, TV Mysteries   \n",
       "2          2021  Crime TV Shows, International TV Shows, TV Act...   \n",
       "3          2021                             Docuseries, Reality TV   \n",
       "4          2021  International TV Shows, Romantic TV Shows, TV ...   \n",
       "\n",
       "                                         description  \n",
       "0  As her father nears the end of his life, filmm...  \n",
       "1  After crossing paths at a party, a Cape Town t...  \n",
       "2  To protect his family from a powerful drug lor...  \n",
       "3  Feuds, flirtations and toilet talk go down amo...  \n",
       "4  In a city of coaching centers known to train I...  "
      ]
     },
     "execution_count": 9,
     "metadata": {},
     "output_type": "execute_result"
    }
   ],
   "source": [
    "data.fillna('U', inplace=True)\n",
    "data.head()"
   ]
  },
  {
   "cell_type": "markdown",
   "id": "9b9ad625",
   "metadata": {},
   "source": [
    "## Feature Extraction"
   ]
  },
  {
   "cell_type": "code",
   "execution_count": 10,
   "id": "fdc453fc",
   "metadata": {},
   "outputs": [],
   "source": [
    "from sklearn.feature_extraction.text import (CountVectorizer, \n",
    "                                             TfidfVectorizer,\n",
    "                                             TfidfTransformer)"
   ]
  },
  {
   "cell_type": "markdown",
   "id": "1b1d6936",
   "metadata": {},
   "source": [
    "#### listed_in features"
   ]
  },
  {
   "cell_type": "code",
   "execution_count": 11,
   "id": "cdfc5b81",
   "metadata": {},
   "outputs": [],
   "source": [
    "listed_in = data['listed_in'].values\n",
    "vectorizer = CountVectorizer(analyzer='word', stop_words='english', max_features = 30, ngram_range=(1, 1))\n",
    "vectorized = vectorizer.fit_transform(listed_in)\n",
    "new_df = pd.DataFrame(vectorized.toarray(), \n",
    "            columns=vectorizer.get_feature_names())"
   ]
  },
  {
   "cell_type": "markdown",
   "id": "68eb6572",
   "metadata": {},
   "source": [
    "#### Title Features"
   ]
  },
  {
   "cell_type": "code",
   "execution_count": 12,
   "id": "427658f1",
   "metadata": {},
   "outputs": [],
   "source": [
    "title = data['title'].values\n",
    "vectorizer = CountVectorizer(analyzer='word', stop_words='english', max_features = 30, ngram_range=(1, 1))\n",
    "vectorized = vectorizer.fit_transform(title)\n",
    "new_df[vectorizer.get_feature_names()] = vectorized.toarray()"
   ]
  },
  {
   "cell_type": "markdown",
   "id": "0d064cc1",
   "metadata": {},
   "source": [
    "#### Cast Features"
   ]
  },
  {
   "cell_type": "code",
   "execution_count": 13,
   "id": "0f0c5439",
   "metadata": {},
   "outputs": [],
   "source": [
    "cast = data['cast'].values\n",
    "vectorizer = CountVectorizer(analyzer='word', stop_words='english', max_features = 30, ngram_range=(1, 1))\n",
    "vectorized = vectorizer.fit_transform(cast)\n",
    "new_df[vectorizer.get_feature_names()] = vectorized.toarray()"
   ]
  },
  {
   "cell_type": "markdown",
   "id": "3590ec29",
   "metadata": {},
   "source": [
    "#### Description Features"
   ]
  },
  {
   "cell_type": "code",
   "execution_count": 14,
   "id": "ead806fb",
   "metadata": {},
   "outputs": [],
   "source": [
    "desc = data['description'].values\n",
    "vectorizer = CountVectorizer(analyzer='word', stop_words='english', max_features = 50, ngram_range=(1, 1))\n",
    "vectorized = vectorizer.fit_transform(desc)\n",
    "new_df[vectorizer.get_feature_names()] = vectorized.toarray()"
   ]
  },
  {
   "cell_type": "markdown",
   "id": "222e53d4",
   "metadata": {},
   "source": [
    "#### Country Fetures"
   ]
  },
  {
   "cell_type": "code",
   "execution_count": 15,
   "id": "7ab25817",
   "metadata": {},
   "outputs": [],
   "source": [
    "country = data['country'].values\n",
    "vectorizer = CountVectorizer(analyzer='word', stop_words='english', max_features = 30, ngram_range=(1, 1))\n",
    "vectorized = vectorizer.fit_transform(country)\n",
    "new_df[vectorizer.get_feature_names()] = vectorized.toarray()"
   ]
  },
  {
   "cell_type": "markdown",
   "id": "719a300b",
   "metadata": {},
   "source": [
    "### Lable Encoding"
   ]
  },
  {
   "cell_type": "code",
   "execution_count": 16,
   "id": "1aa24dc2",
   "metadata": {},
   "outputs": [],
   "source": [
    "from sklearn.preprocessing import LabelEncoder"
   ]
  },
  {
   "cell_type": "code",
   "execution_count": 17,
   "id": "468cb2d2",
   "metadata": {},
   "outputs": [],
   "source": [
    "labelencoder = LabelEncoder()\n",
    "y = data['type'].values\n",
    "y = labelencoder.fit_transform(y)\n",
    "new_df['type'] = y"
   ]
  },
  {
   "cell_type": "code",
   "execution_count": 18,
   "id": "05548195",
   "metadata": {},
   "outputs": [
    {
     "data": {
      "text/html": [
       "<div>\n",
       "<style scoped>\n",
       "    .dataframe tbody tr th:only-of-type {\n",
       "        vertical-align: middle;\n",
       "    }\n",
       "\n",
       "    .dataframe tbody tr th {\n",
       "        vertical-align: top;\n",
       "    }\n",
       "\n",
       "    .dataframe thead th {\n",
       "        text-align: right;\n",
       "    }\n",
       "</style>\n",
       "<table border=\"1\" class=\"dataframe\">\n",
       "  <thead>\n",
       "    <tr style=\"text-align: right;\">\n",
       "      <th></th>\n",
       "      <th>action</th>\n",
       "      <th>adventure</th>\n",
       "      <th>animation</th>\n",
       "      <th>anime</th>\n",
       "      <th>children</th>\n",
       "      <th>comedies</th>\n",
       "      <th>comedy</th>\n",
       "      <th>crime</th>\n",
       "      <th>documentaries</th>\n",
       "      <th>documentary</th>\n",
       "      <th>...</th>\n",
       "      <th>nigeria</th>\n",
       "      <th>philippines</th>\n",
       "      <th>south</th>\n",
       "      <th>spain</th>\n",
       "      <th>states</th>\n",
       "      <th>taiwan</th>\n",
       "      <th>thailand</th>\n",
       "      <th>turkey</th>\n",
       "      <th>united</th>\n",
       "      <th>type</th>\n",
       "    </tr>\n",
       "  </thead>\n",
       "  <tbody>\n",
       "    <tr>\n",
       "      <th>0</th>\n",
       "      <td>0</td>\n",
       "      <td>0</td>\n",
       "      <td>0</td>\n",
       "      <td>0</td>\n",
       "      <td>0</td>\n",
       "      <td>0</td>\n",
       "      <td>0</td>\n",
       "      <td>0</td>\n",
       "      <td>1</td>\n",
       "      <td>0</td>\n",
       "      <td>...</td>\n",
       "      <td>0</td>\n",
       "      <td>0</td>\n",
       "      <td>0</td>\n",
       "      <td>0</td>\n",
       "      <td>1</td>\n",
       "      <td>0</td>\n",
       "      <td>0</td>\n",
       "      <td>0</td>\n",
       "      <td>1</td>\n",
       "      <td>0</td>\n",
       "    </tr>\n",
       "    <tr>\n",
       "      <th>1</th>\n",
       "      <td>0</td>\n",
       "      <td>0</td>\n",
       "      <td>0</td>\n",
       "      <td>0</td>\n",
       "      <td>0</td>\n",
       "      <td>0</td>\n",
       "      <td>0</td>\n",
       "      <td>0</td>\n",
       "      <td>0</td>\n",
       "      <td>0</td>\n",
       "      <td>...</td>\n",
       "      <td>0</td>\n",
       "      <td>0</td>\n",
       "      <td>1</td>\n",
       "      <td>0</td>\n",
       "      <td>0</td>\n",
       "      <td>0</td>\n",
       "      <td>0</td>\n",
       "      <td>0</td>\n",
       "      <td>0</td>\n",
       "      <td>1</td>\n",
       "    </tr>\n",
       "    <tr>\n",
       "      <th>2</th>\n",
       "      <td>1</td>\n",
       "      <td>1</td>\n",
       "      <td>0</td>\n",
       "      <td>0</td>\n",
       "      <td>0</td>\n",
       "      <td>0</td>\n",
       "      <td>0</td>\n",
       "      <td>1</td>\n",
       "      <td>0</td>\n",
       "      <td>0</td>\n",
       "      <td>...</td>\n",
       "      <td>0</td>\n",
       "      <td>0</td>\n",
       "      <td>0</td>\n",
       "      <td>0</td>\n",
       "      <td>0</td>\n",
       "      <td>0</td>\n",
       "      <td>0</td>\n",
       "      <td>0</td>\n",
       "      <td>0</td>\n",
       "      <td>1</td>\n",
       "    </tr>\n",
       "    <tr>\n",
       "      <th>3</th>\n",
       "      <td>0</td>\n",
       "      <td>0</td>\n",
       "      <td>0</td>\n",
       "      <td>0</td>\n",
       "      <td>0</td>\n",
       "      <td>0</td>\n",
       "      <td>0</td>\n",
       "      <td>0</td>\n",
       "      <td>0</td>\n",
       "      <td>0</td>\n",
       "      <td>...</td>\n",
       "      <td>0</td>\n",
       "      <td>0</td>\n",
       "      <td>0</td>\n",
       "      <td>0</td>\n",
       "      <td>0</td>\n",
       "      <td>0</td>\n",
       "      <td>0</td>\n",
       "      <td>0</td>\n",
       "      <td>0</td>\n",
       "      <td>1</td>\n",
       "    </tr>\n",
       "    <tr>\n",
       "      <th>4</th>\n",
       "      <td>0</td>\n",
       "      <td>0</td>\n",
       "      <td>0</td>\n",
       "      <td>0</td>\n",
       "      <td>0</td>\n",
       "      <td>1</td>\n",
       "      <td>0</td>\n",
       "      <td>0</td>\n",
       "      <td>0</td>\n",
       "      <td>0</td>\n",
       "      <td>...</td>\n",
       "      <td>0</td>\n",
       "      <td>0</td>\n",
       "      <td>0</td>\n",
       "      <td>0</td>\n",
       "      <td>0</td>\n",
       "      <td>0</td>\n",
       "      <td>0</td>\n",
       "      <td>0</td>\n",
       "      <td>0</td>\n",
       "      <td>1</td>\n",
       "    </tr>\n",
       "  </tbody>\n",
       "</table>\n",
       "<p>5 rows × 152 columns</p>\n",
       "</div>"
      ],
      "text/plain": [
       "   action  adventure  animation  anime  children  comedies  comedy  crime  \\\n",
       "0       0          0          0      0         0         0       0      0   \n",
       "1       0          0          0      0         0         0       0      0   \n",
       "2       1          1          0      0         0         0       0      1   \n",
       "3       0          0          0      0         0         0       0      0   \n",
       "4       0          0          0      0         0         1       0      0   \n",
       "\n",
       "   documentaries  documentary  ...  nigeria  philippines  south  spain  \\\n",
       "0              1            0  ...        0            0      0      0   \n",
       "1              0            0  ...        0            0      1      0   \n",
       "2              0            0  ...        0            0      0      0   \n",
       "3              0            0  ...        0            0      0      0   \n",
       "4              0            0  ...        0            0      0      0   \n",
       "\n",
       "   states  taiwan  thailand  turkey  united  type  \n",
       "0       1       0         0       0       1     0  \n",
       "1       0       0         0       0       0     1  \n",
       "2       0       0         0       0       0     1  \n",
       "3       0       0         0       0       0     1  \n",
       "4       0       0         0       0       0     1  \n",
       "\n",
       "[5 rows x 152 columns]"
      ]
     },
     "execution_count": 18,
     "metadata": {},
     "output_type": "execute_result"
    }
   ],
   "source": [
    "new_df.head()"
   ]
  },
  {
   "cell_type": "code",
   "execution_count": 19,
   "id": "821d367b",
   "metadata": {},
   "outputs": [
    {
     "data": {
      "text/plain": [
       "0    6131\n",
       "1    4928\n",
       "Name: type, dtype: int64"
      ]
     },
     "execution_count": 19,
     "metadata": {},
     "output_type": "execute_result"
    }
   ],
   "source": [
    "new_df['type'].value_counts()"
   ]
  },
  {
   "cell_type": "markdown",
   "id": "be73b761",
   "metadata": {},
   "source": [
    "#### Information Gain"
   ]
  },
  {
   "cell_type": "code",
   "execution_count": 20,
   "id": "4ce82876",
   "metadata": {},
   "outputs": [],
   "source": [
    "from sklearn.feature_selection import mutual_info_classif\n",
    "import matplotlib.pyplot as plt"
   ]
  },
  {
   "cell_type": "code",
   "execution_count": 21,
   "id": "8a3cdbcb",
   "metadata": {},
   "outputs": [],
   "source": [
    "x = new_df.iloc[:,:-1].values\n",
    "y = new_df.iloc[:,-1].values"
   ]
  },
  {
   "cell_type": "code",
   "execution_count": 22,
   "id": "8d7dd8ae",
   "metadata": {},
   "outputs": [],
   "source": [
    "result = dict(zip(new_df.columns,\n",
    "               mutual_info_classif(x, y, discrete_features=True)))"
   ]
  },
  {
   "cell_type": "code",
   "execution_count": 23,
   "id": "0d1c9728",
   "metadata": {},
   "outputs": [],
   "source": [
    "result = dict(sorted(result.items(), key=lambda item: item[1]))\n",
    "v = result.values()\n",
    "k = result.keys()"
   ]
  },
  {
   "cell_type": "code",
   "execution_count": 24,
   "id": "378c5598",
   "metadata": {},
   "outputs": [],
   "source": [
    "s = []\n",
    "for i in k:\n",
    "    s.append(sum(new_df[i]))"
   ]
  },
  {
   "cell_type": "code",
   "execution_count": 25,
   "id": "48da7259",
   "metadata": {
    "scrolled": true
   },
   "outputs": [
    {
     "data": {
      "text/plain": [
       "Text(0.5, 1.0, 'Gain')"
      ]
     },
     "execution_count": 25,
     "metadata": {},
     "output_type": "execute_result"
    },
    {
     "data": {
      "image/png": "[encoded data removed]",
      "text/plain": [
       "<Figure size 432x288 with 1 Axes>"
      ]
     },
     "metadata": {
      "needs_background": "light"
     },
     "output_type": "display_data"
    }
   ],
   "source": [
    "plt. plot(v,k)\n",
    "plt.title('Gain')"
   ]
  },
  {
   "cell_type": "code",
   "execution_count": 26,
   "id": "c31f57de",
   "metadata": {},
   "outputs": [
    {
     "data": {
      "text/plain": [
       "Text(0.5, 1.0, 'count')"
      ]
     },
     "execution_count": 26,
     "metadata": {},
     "output_type": "execute_result"
    },
    {
     "data": {
      "image/png": "[encoded data removed]",
      "text/plain": [
       "<Figure size 432x288 with 1 Axes>"
      ]
     },
     "metadata": {
      "needs_background": "light"
     },
     "output_type": "display_data"
    }
   ],
   "source": [
    "plt.plot(k,s)\n",
    "plt.title('count')"
   ]
  },
  {
   "cell_type": "markdown",
   "id": "1a1fddd0",
   "metadata": {},
   "source": [
    "### Split dataset"
   ]
  },
  {
   "cell_type": "code",
   "execution_count": 26,
   "id": "7720c879",
   "metadata": {},
   "outputs": [],
   "source": [
    "xtrain, xtest, ytrain, ytest = sklearn.model_selection.train_test_split(x, y, test_size=0.25)"
   ]
  },
  {
   "cell_type": "markdown",
   "id": "5822e150",
   "metadata": {},
   "source": [
    "### Decision Tree"
   ]
  },
  {
   "cell_type": "code",
   "execution_count": 28,
   "id": "eb389a62",
   "metadata": {},
   "outputs": [],
   "source": [
    "#min_samples_split: int or float, default=2\n",
    "#The minimum number of samples required to split an internal node:\n",
    "#If int, then consider min_samples_split as the minimum number.\n",
    "#If float, then min_samples_split is a fraction and ceil(min_samples_split * n_samples)\n",
    "#are the minimum number of samples for each split.\n",
    "\n",
    "#max_depth: int, default=None\n",
    "#The maximum depth of the tree. If None, then nodes are expanded until all\n",
    "#leaves are pure or until all leaves contain less than min_samples_split samples."
   ]
  },
  {
   "cell_type": "markdown",
   "id": "226e471a",
   "metadata": {},
   "source": [
    "### Grid Search"
   ]
  },
  {
   "cell_type": "code",
   "execution_count": 27,
   "id": "ec186c85",
   "metadata": {},
   "outputs": [],
   "source": [
    "from sklearn.model_selection import GridSearchCV\n",
    "from sklearn.tree import DecisionTreeClassifier"
   ]
  },
  {
   "cell_type": "code",
   "execution_count": 28,
   "id": "31c566ef",
   "metadata": {},
   "outputs": [],
   "source": [
    "grid = GridSearchCV(\n",
    "        estimator=DecisionTreeClassifier(),\n",
    "        param_grid={\n",
    "            'min_samples_split': [5, 10, 15, 20],\n",
    "            'max_depth': [5, 10, 15, 20, 25, 30, 40, 50, 60],\n",
    "        },\n",
    "        cv=5, scoring='accuracy', verbose=1, n_jobs=-1)"
   ]
  },
  {
   "cell_type": "code",
   "execution_count": 29,
   "id": "94f75267",
   "metadata": {},
   "outputs": [
    {
     "name": "stdout",
     "output_type": "stream",
     "text": [
      "Fitting 5 folds for each of 36 candidates, totalling 180 fits\n"
     ]
    }
   ],
   "source": [
    "grid_result = grid.fit(xtrain, ytrain)\n",
    "best_params = grid_result.best_params_\n",
    "\n",
    "best_dt = DecisionTreeClassifier( min_samples_split=best_params[\"min_samples_split\"],\n",
    "                                 max_depth=best_params[\"max_depth\"])"
   ]
  },
  {
   "cell_type": "code",
   "execution_count": 30,
   "id": "8cdede42",
   "metadata": {},
   "outputs": [
    {
     "data": {
      "text/plain": [
       "DecisionTreeClassifier(max_depth=50, min_samples_split=5)"
      ]
     },
     "execution_count": 30,
     "metadata": {},
     "output_type": "execute_result"
    }
   ],
   "source": [
    "best_dt.fit(xtrain, ytrain)"
   ]
  },
  {
   "cell_type": "code",
   "execution_count": 31,
   "id": "2e37c429",
   "metadata": {},
   "outputs": [
    {
     "data": {
      "text/plain": [
       "0.9971066907775769"
      ]
     },
     "execution_count": 31,
     "metadata": {},
     "output_type": "execute_result"
    }
   ],
   "source": [
    "best_dt.score(xtest, ytest)"
   ]
  },
  {
   "cell_type": "code",
   "execution_count": 33,
   "id": "cbc31444",
   "metadata": {},
   "outputs": [
    {
     "data": {
      "text/plain": [
       "<sklearn.metrics._plot.confusion_matrix.ConfusionMatrixDisplay at 0x1aa3657bf70>"
      ]
     },
     "execution_count": 33,
     "metadata": {},
     "output_type": "execute_result"
    },
    {
     "data": {
      "image/png": "[encoded data removed]",
      "text/plain": [
       "<Figure size 432x288 with 2 Axes>"
      ]
     },
     "metadata": {
      "needs_background": "light"
     },
     "output_type": "display_data"
    }
   ],
   "source": [
    "from sklearn.metrics import plot_confusion_matrix\n",
    "plot_confusion_matrix(best_dt, xtest, ytest)"
   ]
  },
  {
   "cell_type": "markdown",
   "id": "4e371d2c",
   "metadata": {},
   "source": [
    "#### Effect of diffrent depth"
   ]
  },
  {
   "cell_type": "code",
   "execution_count": 34,
   "id": "899ab49c",
   "metadata": {},
   "outputs": [],
   "source": [
    "train_auc = list()\n",
    "test_auc = list()\n",
    "for i in [2,5,10,15,20,30,40,60,80,100]:\n",
    "    best_dt = DecisionTreeClassifier( min_samples_split = best_params[\"min_samples_split\"],max_depth= i )\n",
    "    best_dt.fit(xtrain, ytrain)\n",
    "    test_auc.append(best_dt.score(xtest, ytest))\n",
    "    train_auc.append(best_dt.score(xtrain, ytrain))"
   ]
  },
  {
   "cell_type": "code",
   "execution_count": 35,
   "id": "c64efd5c",
   "metadata": {
    "scrolled": true
   },
   "outputs": [
    {
     "data": {
      "text/plain": [
       "Text(0.5, 1.0, 'Different Depths')"
      ]
     },
     "execution_count": 35,
     "metadata": {},
     "output_type": "execute_result"
    },
    {
     "data": {
      "image/png": "[encoded data removed]",
      "text/plain": [
       "<Figure size 432x288 with 1 Axes>"
      ]
     },
     "metadata": {
      "needs_background": "light"
     },
     "output_type": "display_data"
    }
   ],
   "source": [
    "te, = plt.plot([2,5,10,15,20,30,40,60,80,100], test_auc, 'b--')\n",
    "tr, = plt.plot([2,5,10,15,20,30,40,60,80,100], train_auc, 'r--')\n",
    "plt.legend([te, tr], ['Test', 'Train'])\n",
    "plt.title('Different Depths')"
   ]
  },
  {
   "cell_type": "markdown",
   "id": "4b69a040",
   "metadata": {},
   "source": [
    "### Confiusion for dt-depth = 2"
   ]
  },
  {
   "cell_type": "code",
   "execution_count": 37,
   "id": "d99ee8ca",
   "metadata": {},
   "outputs": [
    {
     "data": {
      "text/plain": [
       "<sklearn.metrics._plot.confusion_matrix.ConfusionMatrixDisplay at 0x1e2a2368ee0>"
      ]
     },
     "execution_count": 37,
     "metadata": {},
     "output_type": "execute_result"
    },
    {
     "data": {
      "image/png": "[encoded data removed]",
      "text/plain": [
       "<Figure size 432x288 with 2 Axes>"
      ]
     },
     "metadata": {
      "needs_background": "light"
     },
     "output_type": "display_data"
    }
   ],
   "source": [
    "dt = DecisionTreeClassifier( min_samples_split = best_params[\"min_samples_split\"],max_depth= 2 )\n",
    "dt.fit(xtrain, ytrain)\n",
    "plot_confusion_matrix(dt, xtest, ytest)"
   ]
  },
  {
   "cell_type": "markdown",
   "id": "23eae0f7",
   "metadata": {},
   "source": [
    "### Confiusion for dt-depth = 30"
   ]
  },
  {
   "cell_type": "code",
   "execution_count": 36,
   "id": "324ee3c9",
   "metadata": {},
   "outputs": [
    {
     "data": {
      "text/plain": [
       "<sklearn.metrics._plot.confusion_matrix.ConfusionMatrixDisplay at 0x1aa38773340>"
      ]
     },
     "execution_count": 36,
     "metadata": {},
     "output_type": "execute_result"
    },
    {
     "data": {
      "image/png": "[encoded data removed]",
      "text/plain": [
       "<Figure size 432x288 with 2 Axes>"
      ]
     },
     "metadata": {
      "needs_background": "light"
     },
     "output_type": "display_data"
    }
   ],
   "source": [
    "dt = DecisionTreeClassifier( min_samples_split = best_params[\"min_samples_split\"],max_depth= 30 )\n",
    "dt.fit(xtrain, ytrain)\n",
    "plot_confusion_matrix(dt, xtest, ytest)"
   ]
  },
  {
   "cell_type": "markdown",
   "id": "609cca03",
   "metadata": {},
   "source": [
    "### Confiusion for dt-depth = 100"
   ]
  },
  {
   "cell_type": "code",
   "execution_count": 40,
   "id": "7e923ade",
   "metadata": {},
   "outputs": [
    {
     "data": {
      "text/plain": [
       "<sklearn.metrics._plot.confusion_matrix.ConfusionMatrixDisplay at 0x1e2a233c9a0>"
      ]
     },
     "execution_count": 40,
     "metadata": {},
     "output_type": "execute_result"
    },
    {
     "data": {
      "image/png": "[encoded data removed]",
      "text/plain": [
       "<Figure size 432x288 with 2 Axes>"
      ]
     },
     "metadata": {
      "needs_background": "light"
     },
     "output_type": "display_data"
    }
   ],
   "source": [
    "dt = DecisionTreeClassifier( min_samples_split = best_params[\"min_samples_split\"],max_depth= 100 )\n",
    "dt.fit(xtrain, ytrain)\n",
    "plot_confusion_matrix(dt, xtest, ytest)"
   ]
  },
  {
   "cell_type": "markdown",
   "id": "ff34c1c4",
   "metadata": {},
   "source": [
    "### Random Forest"
   ]
  },
  {
   "cell_type": "code",
   "execution_count": 423,
   "id": "dfd97031",
   "metadata": {},
   "outputs": [],
   "source": [
    "from sklearn.ensemble import RandomForestClassifier"
   ]
  },
  {
   "cell_type": "code",
   "execution_count": 428,
   "id": "844f7876",
   "metadata": {},
   "outputs": [],
   "source": [
    "depth = [4, 5, 7, 10, 15, 20]\n",
    "samples = [5, 8, 10, 12, 15, 20, 25, 40]"
   ]
  },
  {
   "cell_type": "code",
   "execution_count": 433,
   "id": "2a3a59d9",
   "metadata": {},
   "outputs": [],
   "source": [
    "train_Auc = list()\n",
    "test_Auc = list()\n",
    "for i in depth:\n",
    "    for j in samples:\n",
    "        rf= RandomForestClassifier(n_estimators=100, max_depth=i, min_samples_split=j)\n",
    "        rf.fit(xtrain, ytrain)\n",
    "        test_Auc.append(rf.score(xtest, ytest))\n",
    "        train_Auc.append(rf.score(xtrain, ytrain))"
   ]
  },
  {
   "cell_type": "code",
   "execution_count": 440,
   "id": "84bba8a1",
   "metadata": {},
   "outputs": [
    {
     "data": {
      "text/plain": [
       "Text(0.5, 1.0, 'RF AUC')"
      ]
     },
     "execution_count": 440,
     "metadata": {},
     "output_type": "execute_result"
    },
    {
     "data": {
      "image/png": "[encoded data removed]",
      "text/plain": [
       "<Figure size 432x288 with 1 Axes>"
      ]
     },
     "metadata": {
      "needs_background": "light"
     },
     "output_type": "display_data"
    }
   ],
   "source": [
    "rfs = range(1,49)\n",
    "te, = plt.plot(rfs, test_Auc, 'b--')\n",
    "tr, = plt.plot(rfs, train_Auc, 'r--')\n",
    "plt.legend([te, tr], ['Test', 'Train'])\n",
    "plt.title('Different Hypreparameters')\n",
    "plt.title('RF AUC')"
   ]
  },
  {
   "cell_type": "code",
   "execution_count": 382,
   "id": "d60e59f7",
   "metadata": {},
   "outputs": [],
   "source": [
    "rf= RandomForestClassifier(n_estimators=100,\n",
    "                                       max_depth=25,\n",
    "                                       min_samples_split=20)"
   ]
  },
  {
   "cell_type": "code",
   "execution_count": 383,
   "id": "1864d62f",
   "metadata": {},
   "outputs": [
    {
     "data": {
      "text/plain": [
       "RandomForestClassifier(max_depth=25, min_samples_split=20)"
      ]
     },
     "execution_count": 383,
     "metadata": {},
     "output_type": "execute_result"
    }
   ],
   "source": [
    "rf.fit(xtrain, ytrain)"
   ]
  },
  {
   "cell_type": "code",
   "execution_count": 384,
   "id": "d028e144",
   "metadata": {},
   "outputs": [
    {
     "data": {
      "text/plain": [
       "0.9804098854731766"
      ]
     },
     "execution_count": 384,
     "metadata": {},
     "output_type": "execute_result"
    }
   ],
   "source": [
    "rf.score(xtest, ytest)"
   ]
  },
  {
   "cell_type": "code",
   "execution_count": 385,
   "id": "c81ca9ae",
   "metadata": {},
   "outputs": [
    {
     "data": {
      "text/plain": [
       "<sklearn.metrics._plot.confusion_matrix.ConfusionMatrixDisplay at 0x22d90060c40>"
      ]
     },
     "execution_count": 385,
     "metadata": {},
     "output_type": "execute_result"
    },
    {
     "data": {
      "image/png": "[encoded data removed]",
      "text/plain": [
       "<Figure size 432x288 with 2 Axes>"
      ]
     },
     "metadata": {
      "needs_background": "light"
     },
     "output_type": "display_data"
    }
   ],
   "source": [
    "plot_confusion_matrix(rf, xtest, ytest)"
   ]
  },
  {
   "cell_type": "markdown",
   "id": "3e514347",
   "metadata": {},
   "source": [
    "### Effect of # features"
   ]
  },
  {
   "cell_type": "code",
   "execution_count": 345,
   "id": "e4380e9f",
   "metadata": {},
   "outputs": [],
   "source": [
    "listed_in = data['listed_in'].values\n",
    "vectorizer = CountVectorizer(analyzer='word', stop_words='english', max_features = 50, ngram_range=(1, 1))\n",
    "vectorized = vectorizer.fit_transform(listed_in)\n",
    "new_df = pd.DataFrame(vectorized.toarray(), \n",
    "            columns=vectorizer.get_feature_names())\n",
    "\n",
    "title = data['title'].values\n",
    "vectorizer = CountVectorizer(analyzer='word', stop_words='english', max_features = 50, ngram_range=(1, 1))\n",
    "vectorized = vectorizer.fit_transform(title)\n",
    "new_df[vectorizer.get_feature_names()] = vectorized.toarray()\n",
    "\n",
    "cast = data['cast'].values\n",
    "vectorizer = CountVectorizer(analyzer='word', stop_words='english', max_features = 50, ngram_range=(1, 1))\n",
    "vectorized = vectorizer.fit_transform(cast)\n",
    "new_df[vectorizer.get_feature_names()] = vectorized.toarray()\n",
    "\n",
    "desc = data['description'].values\n",
    "vectorizer = CountVectorizer(analyzer='word', stop_words='english', max_features = 100, ngram_range=(1, 1))\n",
    "vectorized = vectorizer.fit_transform(desc)\n",
    "new_df[vectorizer.get_feature_names()] = vectorized.toarray()\n",
    "\n",
    "country = data['country'].values\n",
    "vectorizer = CountVectorizer(analyzer='word', stop_words='english', max_features = 50, ngram_range=(1, 1))\n",
    "vectorized = vectorizer.fit_transform(country)\n",
    "new_df[vectorizer.get_feature_names()] = vectorized.toarray()"
   ]
  },
  {
   "cell_type": "code",
   "execution_count": 346,
   "id": "302c4185",
   "metadata": {},
   "outputs": [],
   "source": [
    "labelencoder = LabelEncoder()\n",
    "y = data['type'].values\n",
    "y = labelencoder.fit_transform(y)\n",
    "new_df['type'] = y"
   ]
  },
  {
   "cell_type": "code",
   "execution_count": 347,
   "id": "fbbbc717",
   "metadata": {},
   "outputs": [],
   "source": [
    "x = new_df.iloc[:,:-1].values\n",
    "y = new_df.iloc[:,-1].values\n",
    "xtrain, xtest, ytrain, ytest = sklearn.model_selection.train_test_split(x, y, test_size=0.25)"
   ]
  },
  {
   "cell_type": "code",
   "execution_count": 348,
   "id": "415a3852",
   "metadata": {},
   "outputs": [],
   "source": [
    "best_dt = DecisionTreeClassifier( min_samples_split=best_params[\"min_samples_split\"],\n",
    "                                 max_depth=best_params[\"max_depth\"])"
   ]
  },
  {
   "cell_type": "code",
   "execution_count": 349,
   "id": "52e837a1",
   "metadata": {},
   "outputs": [
    {
     "data": {
      "text/plain": [
       "0.9804701627486437"
      ]
     },
     "execution_count": 349,
     "metadata": {},
     "output_type": "execute_result"
    }
   ],
   "source": [
    "best_dt.fit(xtrain, ytrain)\n",
    "best_dt.score(xtest, ytest)"
   ]
  },
  {
   "cell_type": "code",
   "execution_count": 350,
   "id": "2c7fce82",
   "metadata": {},
   "outputs": [
    {
     "data": {
      "text/plain": [
       "<sklearn.metrics._plot.confusion_matrix.ConfusionMatrixDisplay at 0x22d94aed730>"
      ]
     },
     "execution_count": 350,
     "metadata": {},
     "output_type": "execute_result"
    },
    {
     "data": {
      "image/png": "[encoded data removed]",
      "text/plain": [
       "<Figure size 432x288 with 2 Axes>"
      ]
     },
     "metadata": {
      "needs_background": "light"
     },
     "output_type": "display_data"
    }
   ],
   "source": [
    "plot_confusion_matrix(best_dt, xtest, ytest)"
   ]
  },
  {
   "cell_type": "code",
   "execution_count": 351,
   "id": "7d6d3133",
   "metadata": {},
   "outputs": [
    {
     "data": {
      "text/plain": [
       "0.9815551537070525"
      ]
     },
     "execution_count": 351,
     "metadata": {},
     "output_type": "execute_result"
    }
   ],
   "source": [
    "rf= RandomForestClassifier(n_estimators=100,\n",
    "                                       max_depth=20,\n",
    "                                       min_samples_split=20)\n",
    "rf.fit(xtrain, ytrain)\n",
    "rf.score(xtest, ytest)"
   ]
  },
  {
   "cell_type": "code",
   "execution_count": 352,
   "id": "4e553ad2",
   "metadata": {},
   "outputs": [
    {
     "data": {
      "text/plain": [
       "<sklearn.metrics._plot.confusion_matrix.ConfusionMatrixDisplay at 0x22d927ce4f0>"
      ]
     },
     "execution_count": 352,
     "metadata": {},
     "output_type": "execute_result"
    },
    {
     "data": {
      "image/png": "[encoded data removed]",
      "text/plain": [
       "<Figure size 432x288 with 2 Axes>"
      ]
     },
     "metadata": {
      "needs_background": "light"
     },
     "output_type": "display_data"
    }
   ],
   "source": [
    "plot_confusion_matrix(rf, xtest, ytest)"
   ]
  }
 ],
 "metadata": {
  "kernelspec": {
   "display_name": "Python 3",
   "language": "python",
   "name": "python3"
  },
  "language_info": {
   "codemirror_mode": {
    "name": "ipython",
    "version": 3
   },
   "file_extension": ".py",
   "mimetype": "text/x-python",
   "name": "python",
   "nbconvert_exporter": "python",
   "pygments_lexer": "ipython3",
   "version": "3.8.8"
  }
 },
 "nbformat": 4,
 "nbformat_minor": 5
}
